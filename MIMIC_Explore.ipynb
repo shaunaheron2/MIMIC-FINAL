{
 "cells": [
  {
   "cell_type": "code",
   "execution_count": 1,
   "metadata": {},
   "outputs": [],
   "source": [
    "import numpy as np\n",
    "import pandas as pd\n",
    "import matplotlib.pyplot as plt\n",
    "from IPython import display\n",
    "import warnings\n",
    "import seaborn as sns\n",
    "import ehrapy as ep\n",
    "import anndata as ad\n",
    "\n",
    "plt.style.use(\"ggplot\")\n",
    "warnings.filterwarnings(\"ignore\")\n",
    "from tableone import TableOne"
   ]
  },
  {
   "cell_type": "code",
   "execution_count": 91,
   "metadata": {},
   "outputs": [],
   "source": [
    "df = pd.read_csv(\"notebooks/for_descriptives/icu_stay_diag_nocohort.csv.gz\")\n"
   ]
  },
  {
   "cell_type": "code",
   "execution_count": 92,
   "metadata": {},
   "outputs": [],
   "source": [
    "df['intime'] = pd.to_datetime(df['intime'], errors='coerce')\n",
    "df['outtime'] = pd.to_datetime(df['outtime'], errors='coerce')\n",
    "df['dod'] = pd.to_datetime(df['dod'], errors='coerce')"
   ]
  },
  {
   "cell_type": "code",
   "execution_count": 93,
   "metadata": {},
   "outputs": [],
   "source": [
    "# Calculate days from admission to death\n",
    "df['days_to_death'] = (df['dod'] - df['intime']).dt.days\n",
    "\n",
    "# Calculate days from discharge to death, if death occurred after discharge\n",
    "df['days_post_discharge_to_death'] = (df['dod'] - df['outtime']).dt.days\n",
    "\n",
    "# Optional: clearly label deaths occurring after discharge\n",
    "df['death_after_discharge'] = np.where(\n",
    "    df['days_post_discharge_to_death'] > 0, True, False\n",
    ")\n",
    "\n",
    "# Handle cases with no death recorded (NaT in 'dod')\n",
    "df.loc[df['dod'].isna(), ['days_to_death', 'days_post_discharge_to_death']] = np.nan"
   ]
  },
  {
   "cell_type": "code",
   "execution_count": 94,
   "metadata": {},
   "outputs": [],
   "source": [
    "df_first_two = df.groupby('stay_id').head(1).reset_index(drop=True)"
   ]
  },
  {
   "cell_type": "code",
   "execution_count": 95,
   "metadata": {},
   "outputs": [],
   "source": [
    "df_first_two.reset_index(drop=True, inplace=True)\n"
   ]
  },
  {
   "cell_type": "code",
   "execution_count": 96,
   "metadata": {},
   "outputs": [],
   "source": [
    "adata = ep.io.df_to_anndata(df_first_two, \n",
    "            index_column='stay_id',\n",
    "            columns_obs_only=['subject_id', 'icd_code', 'hadm_id', 'dod', 'intime', 'outtime'])"
   ]
  },
  {
   "cell_type": "code",
   "execution_count": 28,
   "metadata": {},
   "outputs": [],
   "source": [
    "#icu_stay_df = pd.read_csv(\"data/cohort/cohort_icu_mortality_0_.csv.gz\")\n",
    "#icu_stay_merged.to_csv(\"notebooks/for_descriptives/icu_stay_diag_nocohort.csv.gz\", index=False)\n",
    "#adata = ep.io.read_csv(\"notebooks/for_descriptives/icu_stay_diag_nocohort.csv.gz\", \n",
    "#            index_column='stay_id',\n",
    "#            columns_obs_only=['subject_id', 'icd_code', 'hadm_id', 'dod', 'intime', 'outtime']) \n",
    "\n",
    "# 'dod', 'gender', 'ethnicity', 'insurance', 'disease_name', 'disease_type', 'hospital_death'"
   ]
  },
  {
   "cell_type": "code",
   "execution_count": 67,
   "metadata": {},
   "outputs": [
    {
     "data": {
      "text/plain": [
       "AnnData object with n_obs × n_vars = 188634 × 11\n",
       "    obs: 'subject_id', 'icd_code', 'hadm_id', 'dod', 'intime', 'outtime'\n",
       "    layers: 'original'"
      ]
     },
     "execution_count": null,
     "metadata": {},
     "output_type": "execute_result"
    }
   ],
   "source": [
    "adata"
   ]
  },
  {
   "cell_type": "code",
   "execution_count": 97,
   "metadata": {},
   "outputs": [
    {
     "name": "stdout",
     "output_type": "stream",
     "text": [
      "\u001b[93m!\u001b[0m Feature 'hospital_death' was detected as categorical features stored numerically.Please verify and correct using `ep.ad.replace_feature_types` if necessary.\n",
      "\u001b[1m Detected feature types for AnnData \u001b[0m\n",
      "\u001b[1mobject with 94444 obs and 11 vars\u001b[0m\n",
      "├── 📅\u001b[1m Date features\u001b[0m\n",
      "├── 📐\u001b[1m Numerical features\u001b[0m\n",
      "│   ├── Age\n",
      "│   ├── days_post_discharge_to_death\n",
      "│   ├── days_to_death\n",
      "│   └── los\n",
      "└── 🗂️\u001b[1m Categorical features\u001b[0m\n",
      "    ├── death_after_discharge (2 \n",
      "    │   categories)\n",
      "    ├── disease_name (904 categories)\n",
      "    ├── disease_type (20 categories)\n",
      "    ├── ethnicity (33 categories)\n",
      "    ├── gender (2 categories)\n",
      "    ├── hospital_death (2 categories)\n",
      "    └── insurance (6 categories)\n"
     ]
    }
   ],
   "source": [
    "ep.ad.infer_feature_types(adata)"
   ]
  },
  {
   "cell_type": "code",
   "execution_count": 83,
   "metadata": {},
   "outputs": [],
   "source": [
    "data = adata.to_df()\n",
    "data.index = data.index.astype(int)"
   ]
  },
  {
   "cell_type": "code",
   "execution_count": 84,
   "metadata": {},
   "outputs": [
    {
     "data": {
      "text/html": [
       "<div>\n",
       "<style scoped>\n",
       "    .dataframe tbody tr th:only-of-type {\n",
       "        vertical-align: middle;\n",
       "    }\n",
       "\n",
       "    .dataframe tbody tr th {\n",
       "        vertical-align: top;\n",
       "    }\n",
       "\n",
       "    .dataframe thead th {\n",
       "        text-align: right;\n",
       "    }\n",
       "</style>\n",
       "<table border=\"1\" class=\"dataframe\">\n",
       "  <thead>\n",
       "    <tr style=\"text-align: right;\">\n",
       "      <th></th>\n",
       "      <th>feature_type</th>\n",
       "    </tr>\n",
       "  </thead>\n",
       "  <tbody>\n",
       "    <tr>\n",
       "      <th>Age</th>\n",
       "      <td>numeric</td>\n",
       "    </tr>\n",
       "    <tr>\n",
       "      <th>gender</th>\n",
       "      <td>categorical</td>\n",
       "    </tr>\n",
       "    <tr>\n",
       "      <th>ethnicity</th>\n",
       "      <td>categorical</td>\n",
       "    </tr>\n",
       "    <tr>\n",
       "      <th>insurance</th>\n",
       "      <td>categorical</td>\n",
       "    </tr>\n",
       "    <tr>\n",
       "      <th>hospital_death</th>\n",
       "      <td>categorical</td>\n",
       "    </tr>\n",
       "    <tr>\n",
       "      <th>los</th>\n",
       "      <td>numeric</td>\n",
       "    </tr>\n",
       "    <tr>\n",
       "      <th>disease_name</th>\n",
       "      <td>categorical</td>\n",
       "    </tr>\n",
       "    <tr>\n",
       "      <th>disease_type</th>\n",
       "      <td>categorical</td>\n",
       "    </tr>\n",
       "    <tr>\n",
       "      <th>days_to_death</th>\n",
       "      <td>numeric</td>\n",
       "    </tr>\n",
       "    <tr>\n",
       "      <th>days_post_discharge_to_death</th>\n",
       "      <td>numeric</td>\n",
       "    </tr>\n",
       "    <tr>\n",
       "      <th>death_after_discharge</th>\n",
       "      <td>categorical</td>\n",
       "    </tr>\n",
       "  </tbody>\n",
       "</table>\n",
       "</div>"
      ],
      "text/plain": [
       "                             feature_type\n",
       "Age                               numeric\n",
       "gender                        categorical\n",
       "ethnicity                     categorical\n",
       "insurance                     categorical\n",
       "hospital_death                categorical\n",
       "los                               numeric\n",
       "disease_name                  categorical\n",
       "disease_type                  categorical\n",
       "days_to_death                     numeric\n",
       "days_post_discharge_to_death      numeric\n",
       "death_after_discharge         categorical"
      ]
     },
     "execution_count": null,
     "metadata": {},
     "output_type": "execute_result"
    }
   ],
   "source": [
    "adata.var"
   ]
  },
  {
   "cell_type": "code",
   "execution_count": 85,
   "metadata": {},
   "outputs": [],
   "source": [
    "obs_qc, var_qc = ep.pp.qc_metrics(adata)"
   ]
  },
  {
   "cell_type": "code",
   "execution_count": 98,
   "metadata": {},
   "outputs": [
    {
     "name": "stdout",
     "output_type": "stream",
     "text": [
      "\u001b[1m Detected feature types for AnnData \u001b[0m\n",
      "\u001b[1mobject with 94444 obs and 11 vars\u001b[0m\n",
      "├── 📅\u001b[1m Date features\u001b[0m\n",
      "├── 📐\u001b[1m Numerical features\u001b[0m\n",
      "│   ├── Age\n",
      "│   ├── days_post_discharge_to_death\n",
      "│   ├── days_to_death\n",
      "│   └── los\n",
      "└── 🗂️\u001b[1m Categorical features\u001b[0m\n",
      "    ├── death_after_discharge (2 \n",
      "    │   categories)\n",
      "    ├── disease_name (904 categories)\n",
      "    ├── disease_type (20 categories)\n",
      "    ├── ethnicity (33 categories)\n",
      "    ├── gender (2 categories)\n",
      "    ├── hospital_death (2 categories)\n",
      "    └── insurance (6 categories)\n"
     ]
    }
   ],
   "source": [
    "ep.ad.feature_type_overview(adata)"
   ]
  },
  {
   "cell_type": "code",
   "execution_count": 100,
   "metadata": {},
   "outputs": [
    {
     "name": "stdout",
     "output_type": "stream",
     "text": [
      "\u001b[2K\u001b[34mFinished one-hot encoding.\u001b[0m \u001b[33m------\u001b[0m \u001b[35m100%\u001b[0m\n",
      "\u001b[?25h"
     ]
    }
   ],
   "source": [
    "adata = ep.pp.encode(adata, encodings={\"one-hot\": [\"gender\", 'ethnicity', 'insurance', 'disease_name',  'disease_type','hospital_death', 'death_after_discharge']})"
   ]
  },
  {
   "cell_type": "code",
   "execution_count": 89,
   "metadata": {},
   "outputs": [
    {
     "data": {
      "text/html": [
       "<div>\n",
       "<style scoped>\n",
       "    .dataframe tbody tr th:only-of-type {\n",
       "        vertical-align: middle;\n",
       "    }\n",
       "\n",
       "    .dataframe tbody tr th {\n",
       "        vertical-align: top;\n",
       "    }\n",
       "\n",
       "    .dataframe thead th {\n",
       "        text-align: right;\n",
       "    }\n",
       "</style>\n",
       "<table border=\"1\" class=\"dataframe\">\n",
       "  <thead>\n",
       "    <tr style=\"text-align: right;\">\n",
       "      <th></th>\n",
       "      <th>feature_type</th>\n",
       "      <th>unencoded_var_names</th>\n",
       "      <th>encoding_mode</th>\n",
       "    </tr>\n",
       "  </thead>\n",
       "  <tbody>\n",
       "    <tr>\n",
       "      <th>ehrapycat_gender_F</th>\n",
       "      <td>categorical</td>\n",
       "      <td>gender</td>\n",
       "      <td>one-hot</td>\n",
       "    </tr>\n",
       "    <tr>\n",
       "      <th>ehrapycat_gender_M</th>\n",
       "      <td>categorical</td>\n",
       "      <td>gender</td>\n",
       "      <td>one-hot</td>\n",
       "    </tr>\n",
       "    <tr>\n",
       "      <th>ehrapycat_ethnicity_AMERICAN INDIAN/ALASKA NATIVE</th>\n",
       "      <td>categorical</td>\n",
       "      <td>ethnicity</td>\n",
       "      <td>one-hot</td>\n",
       "    </tr>\n",
       "    <tr>\n",
       "      <th>ehrapycat_ethnicity_ASIAN</th>\n",
       "      <td>categorical</td>\n",
       "      <td>ethnicity</td>\n",
       "      <td>one-hot</td>\n",
       "    </tr>\n",
       "    <tr>\n",
       "      <th>ehrapycat_ethnicity_ASIAN - ASIAN INDIAN</th>\n",
       "      <td>categorical</td>\n",
       "      <td>ethnicity</td>\n",
       "      <td>one-hot</td>\n",
       "    </tr>\n",
       "    <tr>\n",
       "      <th>...</th>\n",
       "      <td>...</td>\n",
       "      <td>...</td>\n",
       "      <td>...</td>\n",
       "    </tr>\n",
       "    <tr>\n",
       "      <th>ehrapycat_death_after_discharge_True</th>\n",
       "      <td>categorical</td>\n",
       "      <td>death_after_discharge</td>\n",
       "      <td>one-hot</td>\n",
       "    </tr>\n",
       "    <tr>\n",
       "      <th>Age</th>\n",
       "      <td>numeric</td>\n",
       "      <td>Age</td>\n",
       "      <td>None</td>\n",
       "    </tr>\n",
       "    <tr>\n",
       "      <th>los</th>\n",
       "      <td>numeric</td>\n",
       "      <td>los</td>\n",
       "      <td>None</td>\n",
       "    </tr>\n",
       "    <tr>\n",
       "      <th>days_to_death</th>\n",
       "      <td>numeric</td>\n",
       "      <td>days_to_death</td>\n",
       "      <td>None</td>\n",
       "    </tr>\n",
       "    <tr>\n",
       "      <th>days_post_discharge_to_death</th>\n",
       "      <td>numeric</td>\n",
       "      <td>days_post_discharge_to_death</td>\n",
       "      <td>None</td>\n",
       "    </tr>\n",
       "  </tbody>\n",
       "</table>\n",
       "<p>1143 rows × 3 columns</p>\n",
       "</div>"
      ],
      "text/plain": [
       "                                                  feature_type  \\\n",
       "ehrapycat_gender_F                                 categorical   \n",
       "ehrapycat_gender_M                                 categorical   \n",
       "ehrapycat_ethnicity_AMERICAN INDIAN/ALASKA NATIVE  categorical   \n",
       "ehrapycat_ethnicity_ASIAN                          categorical   \n",
       "ehrapycat_ethnicity_ASIAN - ASIAN INDIAN           categorical   \n",
       "...                                                        ...   \n",
       "ehrapycat_death_after_discharge_True               categorical   \n",
       "Age                                                    numeric   \n",
       "los                                                    numeric   \n",
       "days_to_death                                          numeric   \n",
       "days_post_discharge_to_death                           numeric   \n",
       "\n",
       "                                                            unencoded_var_names  \\\n",
       "ehrapycat_gender_F                                                       gender   \n",
       "ehrapycat_gender_M                                                       gender   \n",
       "ehrapycat_ethnicity_AMERICAN INDIAN/ALASKA NATIVE                     ethnicity   \n",
       "ehrapycat_ethnicity_ASIAN                                             ethnicity   \n",
       "ehrapycat_ethnicity_ASIAN - ASIAN INDIAN                              ethnicity   \n",
       "...                                                                         ...   \n",
       "ehrapycat_death_after_discharge_True                      death_after_discharge   \n",
       "Age                                                                         Age   \n",
       "los                                                                         los   \n",
       "days_to_death                                                     days_to_death   \n",
       "days_post_discharge_to_death                       days_post_discharge_to_death   \n",
       "\n",
       "                                                  encoding_mode  \n",
       "ehrapycat_gender_F                                      one-hot  \n",
       "ehrapycat_gender_M                                      one-hot  \n",
       "ehrapycat_ethnicity_AMERICAN INDIAN/ALASKA NATIVE       one-hot  \n",
       "ehrapycat_ethnicity_ASIAN                               one-hot  \n",
       "ehrapycat_ethnicity_ASIAN - ASIAN INDIAN                one-hot  \n",
       "...                                                         ...  \n",
       "ehrapycat_death_after_discharge_True                    one-hot  \n",
       "Age                                                        None  \n",
       "los                                                        None  \n",
       "days_to_death                                              None  \n",
       "days_post_discharge_to_death                               None  \n",
       "\n",
       "[1143 rows x 3 columns]"
      ]
     },
     "execution_count": null,
     "metadata": {},
     "output_type": "execute_result"
    }
   ],
   "source": [
    " adata.var"
   ]
  },
  {
   "cell_type": "code",
   "execution_count": 19,
   "metadata": {},
   "outputs": [],
   "source": [
    "#ep.ad.replace_feature_types(adata, [\"hospital_death\"], \"categorical\")"
   ]
  },
  {
   "cell_type": "code",
   "execution_count": 102,
   "metadata": {},
   "outputs": [
    {
     "data": {
      "image/png": "[encoded data removed]",
      "text/plain": [
       "<Figure size 465.3x300 with 1 Axes>"
      ]
     },
     "metadata": {},
     "output_type": "display_data"
    }
   ],
   "source": [
    "#ep.settings.set_figure_params(figsize=(4, 3), dpi=100)\n",
    "ep.pl.violin(adata, keys=[\"los\"], groupby=\"gender\")"
   ]
  },
  {
   "cell_type": "code",
   "execution_count": 103,
   "metadata": {},
   "outputs": [],
   "source": [
    "obs_metric, var_metrics = ep.pp.qc_metrics(adata)"
   ]
  },
  {
   "cell_type": "code",
   "execution_count": null,
   "metadata": {},
   "outputs": [],
   "source": [
    "ep.pp.qc_metrics(adata)"
   ]
  },
  {
   "cell_type": "code",
   "execution_count": null,
   "metadata": {},
   "outputs": [],
   "source": [
    "ep.pp.knn_impute(adata, n_neighbours=5)"
   ]
  },
  {
   "cell_type": "code",
   "execution_count": null,
   "metadata": {},
   "outputs": [],
   "source": [
    "ep.pp.qc_metrics(adata)"
   ]
  }
 ],
 "metadata": {
  "language_info": {
   "name": "python"
  }
 },
 "nbformat": 4,
 "nbformat_minor": 2
}
